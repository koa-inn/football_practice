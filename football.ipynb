{
 "cells": [
  {
   "cell_type": "code",
   "execution_count": 91,
   "metadata": {},
   "outputs": [],
   "source": [
    "import numpy as np\n",
    "import pandas as pd"
   ]
  },
  {
   "cell_type": "code",
   "execution_count": 92,
   "metadata": {},
   "outputs": [
    {
     "name": "stdout",
     "output_type": "stream",
     "text": [
      "date          0\n",
      "home_team     0\n",
      "away_team     0\n",
      "home_score    0\n",
      "away_score    0\n",
      "tournament    0\n",
      "city          0\n",
      "country       0\n",
      "neutral       0\n",
      "dtype: int64\n"
     ]
    }
   ],
   "source": [
    "# Step 2\n",
    "\n",
    "df = pd.read_csv('football.csv')\n",
    "\n",
    "print(df.isna().sum())\n",
    "\n",
    "# no missing values!\n"
   ]
  },
  {
   "cell_type": "code",
   "execution_count": 93,
   "metadata": {},
   "outputs": [
    {
     "name": "stdout",
     "output_type": "stream",
     "text": [
      "There are 42650 tuples in the dataset\n",
      "There are 120 tournaments in the dataset\n"
     ]
    }
   ],
   "source": [
    "# Step 3 \n",
    "\n",
    "print(f\"There are {df.shape[0]} tuples in the dataset\")\n",
    "print(f\"There are {len(df['tournament'].unique())} tournaments in the dataset\")"
   ]
  },
  {
   "cell_type": "code",
   "execution_count": 94,
   "metadata": {},
   "outputs": [
    {
     "name": "stdout",
     "output_type": "stream",
     "text": [
      "There were 908 tournaments in 2018\n"
     ]
    }
   ],
   "source": [
    "# Step 4\n",
    "import datetime as dt\n",
    "df['date'] = pd.to_datetime(df['date'])\n",
    "\n",
    "num_tourn_2018 = len(df[(df['date'] >= dt.datetime(2018,1,1)) & (df['date'] <= dt.datetime(2018,12,31))])\n",
    "print(f\"There were {num_tourn_2018} tournaments in 2018\")"
   ]
  },
  {
   "cell_type": "code",
   "execution_count": null,
   "metadata": {},
   "outputs": [
    {
     "name": "stdout",
     "output_type": "stream",
     "text": [
      "       home_score  away_score\n",
      "0               0           0\n",
      "1               4           2\n",
      "2               2           1\n",
      "3               2           2\n",
      "4               3           0\n",
      "...           ...         ...\n",
      "42645           3           1\n",
      "42646           2           1\n",
      "42647           1           0\n",
      "42648           3           0\n",
      "42649           2           0\n",
      "\n",
      "[42650 rows x 2 columns]\n"
     ]
    }
   ],
   "source": [
    "# Step 5\n",
    "\n",
    "record_df = df[['home_score','away_score']]\n",
    "\n",
    "print(record_df)\n",
    "\n",
    "record_df['away_score'] = np.negative(record_df['away_score'])\n",
    "df.insert(len(df.columns),'wlt',record_df.apply(np.sum, axis=1))\n"
   ]
  },
  {
   "cell_type": "code",
   "execution_count": 97,
   "metadata": {},
   "outputs": [
    {
     "data": {
      "text/html": [
       "<div>\n",
       "<style scoped>\n",
       "    .dataframe tbody tr th:only-of-type {\n",
       "        vertical-align: middle;\n",
       "    }\n",
       "\n",
       "    .dataframe tbody tr th {\n",
       "        vertical-align: top;\n",
       "    }\n",
       "\n",
       "    .dataframe thead th {\n",
       "        text-align: right;\n",
       "    }\n",
       "</style>\n",
       "<table border=\"1\" class=\"dataframe\">\n",
       "  <thead>\n",
       "    <tr style=\"text-align: right;\">\n",
       "      <th></th>\n",
       "      <th>date</th>\n",
       "      <th>home_team</th>\n",
       "      <th>away_team</th>\n",
       "      <th>home_score</th>\n",
       "      <th>away_score</th>\n",
       "      <th>tournament</th>\n",
       "      <th>city</th>\n",
       "      <th>country</th>\n",
       "      <th>neutral</th>\n",
       "      <th>wlt</th>\n",
       "      <th>outcome</th>\n",
       "    </tr>\n",
       "  </thead>\n",
       "  <tbody>\n",
       "    <tr>\n",
       "      <th>0</th>\n",
       "      <td>1872-11-30</td>\n",
       "      <td>Scotland</td>\n",
       "      <td>England</td>\n",
       "      <td>0</td>\n",
       "      <td>0</td>\n",
       "      <td>Friendly</td>\n",
       "      <td>Glasgow</td>\n",
       "      <td>Scotland</td>\n",
       "      <td>False</td>\n",
       "      <td>0</td>\n",
       "      <td>tie game</td>\n",
       "    </tr>\n",
       "    <tr>\n",
       "      <th>1</th>\n",
       "      <td>1873-03-08</td>\n",
       "      <td>England</td>\n",
       "      <td>Scotland</td>\n",
       "      <td>4</td>\n",
       "      <td>2</td>\n",
       "      <td>Friendly</td>\n",
       "      <td>London</td>\n",
       "      <td>England</td>\n",
       "      <td>False</td>\n",
       "      <td>2</td>\n",
       "      <td>home win</td>\n",
       "    </tr>\n",
       "    <tr>\n",
       "      <th>2</th>\n",
       "      <td>1874-03-07</td>\n",
       "      <td>Scotland</td>\n",
       "      <td>England</td>\n",
       "      <td>2</td>\n",
       "      <td>1</td>\n",
       "      <td>Friendly</td>\n",
       "      <td>Glasgow</td>\n",
       "      <td>Scotland</td>\n",
       "      <td>False</td>\n",
       "      <td>1</td>\n",
       "      <td>home win</td>\n",
       "    </tr>\n",
       "    <tr>\n",
       "      <th>3</th>\n",
       "      <td>1875-03-06</td>\n",
       "      <td>England</td>\n",
       "      <td>Scotland</td>\n",
       "      <td>2</td>\n",
       "      <td>2</td>\n",
       "      <td>Friendly</td>\n",
       "      <td>London</td>\n",
       "      <td>England</td>\n",
       "      <td>False</td>\n",
       "      <td>0</td>\n",
       "      <td>tie game</td>\n",
       "    </tr>\n",
       "    <tr>\n",
       "      <th>4</th>\n",
       "      <td>1876-03-04</td>\n",
       "      <td>Scotland</td>\n",
       "      <td>England</td>\n",
       "      <td>3</td>\n",
       "      <td>0</td>\n",
       "      <td>Friendly</td>\n",
       "      <td>Glasgow</td>\n",
       "      <td>Scotland</td>\n",
       "      <td>False</td>\n",
       "      <td>3</td>\n",
       "      <td>home win</td>\n",
       "    </tr>\n",
       "  </tbody>\n",
       "</table>\n",
       "</div>"
      ],
      "text/plain": [
       "        date home_team away_team  home_score  away_score tournament     city  \\\n",
       "0 1872-11-30  Scotland   England           0           0   Friendly  Glasgow   \n",
       "1 1873-03-08   England  Scotland           4           2   Friendly   London   \n",
       "2 1874-03-07  Scotland   England           2           1   Friendly  Glasgow   \n",
       "3 1875-03-06   England  Scotland           2           2   Friendly   London   \n",
       "4 1876-03-04  Scotland   England           3           0   Friendly  Glasgow   \n",
       "\n",
       "    country  neutral  wlt   outcome  \n",
       "0  Scotland    False    0  tie game  \n",
       "1   England    False    2  home win  \n",
       "2  Scotland    False    1  home win  \n",
       "3   England    False    0  tie game  \n",
       "4  Scotland    False    3  home win  "
      ]
     },
     "execution_count": 97,
     "metadata": {},
     "output_type": "execute_result"
    }
   ],
   "source": [
    "conditions = [\n",
    "    (df['wlt'] < 0),\n",
    "    (df['wlt'] == 0),\n",
    "    (df['wlt'] > 0)\n",
    "]\n",
    "\n",
    "values = ['away win','tie game','home win']\n",
    "\n",
    "df['outcome'] = np.select(conditions, values, default='error')\n",
    "\n",
    "df.head()\n"
   ]
  },
  {
   "cell_type": "code",
   "execution_count": 98,
   "metadata": {},
   "outputs": [
    {
     "name": "stdout",
     "output_type": "stream",
     "text": [
      "outcome\n",
      "home win    20739\n",
      "away win    12074\n",
      "tie game     9837\n",
      "Name: count, dtype: int64\n"
     ]
    }
   ],
   "source": [
    "print(df['outcome'].value_counts())"
   ]
  },
  {
   "cell_type": "code",
   "execution_count": null,
   "metadata": {},
   "outputs": [],
   "source": []
  }
 ],
 "metadata": {
  "kernelspec": {
   "display_name": ".venv",
   "language": "python",
   "name": "python3"
  },
  "language_info": {
   "codemirror_mode": {
    "name": "ipython",
    "version": 3
   },
   "file_extension": ".py",
   "mimetype": "text/x-python",
   "name": "python",
   "nbconvert_exporter": "python",
   "pygments_lexer": "ipython3",
   "version": "3.12.7"
  }
 },
 "nbformat": 4,
 "nbformat_minor": 2
}
